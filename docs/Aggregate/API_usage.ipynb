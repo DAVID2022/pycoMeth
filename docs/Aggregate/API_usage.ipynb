{
 "cells": [
  {
   "cell_type": "markdown",
   "metadata": {
    "ExecuteTime": {
     "end_time": "2018-08-10T10:03:00.595966Z",
     "start_time": "2018-08-10T10:03:00.587806Z"
    }
   },
   "source": [
    "# Aggregate API usage"
   ]
  },
  {
   "cell_type": "markdown",
   "metadata": {},
   "source": [
    "## Import module"
   ]
  },
  {
   "cell_type": "code",
   "execution_count": 2,
   "metadata": {
    "ExecuteTime": {
     "end_time": "2019-10-18T16:14:35.839542Z",
     "start_time": "2019-10-18T16:14:35.836748Z"
    },
    "init_cell": true
   },
   "outputs": [],
   "source": [
    "# Import main module \n",
    "from pycoMeth.Aggregate import Aggregate\n",
    "\n",
    "# optionally inport jupyter helper functions\n",
    "from pycoMeth.common import head, jhelp"
   ]
  },
  {
   "cell_type": "markdown",
   "metadata": {},
   "source": [
    "## Getting help"
   ]
  },
  {
   "cell_type": "code",
   "execution_count": 3,
   "metadata": {
    "ExecuteTime": {
     "end_time": "2019-10-18T16:14:35.857055Z",
     "start_time": "2019-10-18T16:14:35.842501Z"
    }
   },
   "outputs": [
    {
     "data": {
      "text/markdown": [
       "**Aggregate** (input_fn, fasta_index, output_bed_fn, output_tsv_fn, min_depth, sample_id, min_llr, kwargs)\n",
       "\n",
       "Calculate methylation frequency at genomic CpG sites from the output of nanopolish call-methylation\n",
       "\n",
       "---\n",
       "\n",
       "* **input_fn** (required) [str]\n",
       "\n",
       "Path to a nanopolish call_methylation tsv output file\n",
       "\n",
       "* **fasta_index** (required) [str]\n",
       "\n",
       "fasta index file obtained with samtools faidx needed for coordinate sorting\n",
       "\n",
       "* **output_bed_fn** (default: \"\") [str]\n",
       "\n",
       "Path to write a summary result file in BED format (At least 1 output file is requires in CLI mode)\n",
       "\n",
       "* **output_tsv_fn** (default: \"\") [str]\n",
       "\n",
       "Path to write an more extensive result report in TSV format (At least 1 output file is requires in CLI mode)\n",
       "\n",
       "* **min_depth** (default: 10) [int]\n",
       "\n",
       "Minimal number of reads covering a site to be reported\n",
       "\n",
       "* **sample_id** (default: \"\") [str]\n",
       "\n",
       "Sample ID to be used for the bed track header\n",
       "\n",
       "* **min_llr** (default: 2) [float]\n",
       "\n",
       "Minimal log likelyhood ratio to consider a site significantly methylated or unmethylated\n",
       "\n",
       "* **kwargs**\n",
       "\n",
       "Allow to pass extra options such as verbose, quiet and progress\n",
       "\n"
      ],
      "text/plain": [
       "<IPython.core.display.Markdown object>"
      ]
     },
     "metadata": {},
     "output_type": "display_data"
    }
   ],
   "source": [
    "jhelp(Aggregate)"
   ]
  },
  {
   "cell_type": "markdown",
   "metadata": {},
   "source": [
    "## Example usage"
   ]
  },
  {
   "cell_type": "markdown",
   "metadata": {},
   "source": [
    "#### Basic interactive usage"
   ]
  },
  {
   "cell_type": "markdown",
   "metadata": {},
   "source": [
    "If no output file is given, Aggregate can return a pandas dataframe containing all the results "
   ]
  },
  {
   "cell_type": "code",
   "execution_count": 4,
   "metadata": {
    "ExecuteTime": {
     "end_time": "2019-10-18T16:14:41.554147Z",
     "start_time": "2019-10-18T16:14:35.858948Z"
    },
    "scrolled": false
   },
   "outputs": [
    {
     "name": "stderr",
     "output_type": "stream",
     "text": [
      "## Checking arguments ##\n",
      "## Parsing methylation_calls file ##\n",
      "\tStarting to parse file Nanopolish methylation call file\n",
      "\t: 100%|█████████▉| 60.4M/60.4M [00:04<00:00, 14.1M bytes/s]\n",
      "\tFiltering out low coverage sites\n",
      "\tSorting by coordinates\n",
      "\tProcessing valid sites found and write to file\n",
      "\t: 100%|██████████| 804/804 [00:01<00:00, 657 sites/s]  \n",
      "## Results summary ##\n",
      "\tLines Parsed: 605,248\n",
      "\tTotal Valid Lines: 605,248\n",
      "\tInitial Sites: 229,389\n",
      "\tLow Count Sites: 228,585\n",
      "\tValid Sites Found: 804\n",
      "\tTotal Sites Written: 804\n",
      "\tUnmethylated sites: 589\n",
      "\tAmbiguous sites: 215\n"
     ]
    },
    {
     "data": {
      "text/html": [
       "<div>\n",
       "<style scoped>\n",
       "    .dataframe tbody tr th:only-of-type {\n",
       "        vertical-align: middle;\n",
       "    }\n",
       "\n",
       "    .dataframe tbody tr th {\n",
       "        vertical-align: top;\n",
       "    }\n",
       "\n",
       "    .dataframe thead th {\n",
       "        text-align: right;\n",
       "    }\n",
       "</style>\n",
       "<table border=\"1\" class=\"dataframe\">\n",
       "  <thead>\n",
       "    <tr style=\"text-align: right;\">\n",
       "      <th></th>\n",
       "      <th>chromosome</th>\n",
       "      <th>start</th>\n",
       "      <th>end</th>\n",
       "      <th>strand</th>\n",
       "      <th>methylated_reads</th>\n",
       "      <th>unmethylated_reads</th>\n",
       "      <th>ambiguous_reads</th>\n",
       "      <th>sequence</th>\n",
       "      <th>num_motifs</th>\n",
       "      <th>median_llr</th>\n",
       "      <th>llr_list</th>\n",
       "    </tr>\n",
       "  </thead>\n",
       "  <tbody>\n",
       "    <tr>\n",
       "      <td>0</td>\n",
       "      <td>chr-VIII</td>\n",
       "      <td>138415</td>\n",
       "      <td>138416</td>\n",
       "      <td>.</td>\n",
       "      <td>0</td>\n",
       "      <td>7</td>\n",
       "      <td>3</td>\n",
       "      <td>GGTCTCGCTTT</td>\n",
       "      <td>1</td>\n",
       "      <td>-2.335</td>\n",
       "      <td>[-9.63, -5.51, -5.64, -5.44, 1.06, -2.23, -0.4...</td>\n",
       "    </tr>\n",
       "    <tr>\n",
       "      <td>1</td>\n",
       "      <td>chr-VIII</td>\n",
       "      <td>138429</td>\n",
       "      <td>138430</td>\n",
       "      <td>.</td>\n",
       "      <td>0</td>\n",
       "      <td>8</td>\n",
       "      <td>2</td>\n",
       "      <td>AGCTTCGAGGA</td>\n",
       "      <td>1</td>\n",
       "      <td>-5.055</td>\n",
       "      <td>[-3.64, -5.14, -4.97, 1.16, -0.43, -9.53, -2.0...</td>\n",
       "    </tr>\n",
       "    <tr>\n",
       "      <td>2</td>\n",
       "      <td>chr-VIII</td>\n",
       "      <td>212351</td>\n",
       "      <td>212352</td>\n",
       "      <td>.</td>\n",
       "      <td>0</td>\n",
       "      <td>8</td>\n",
       "      <td>4</td>\n",
       "      <td>TGGGGCGACAT</td>\n",
       "      <td>1</td>\n",
       "      <td>-2.950</td>\n",
       "      <td>[-3.14, -6.06, -9.1, 0.53, 0.17, -11.61, -2.48...</td>\n",
       "    </tr>\n",
       "    <tr>\n",
       "      <td>3</td>\n",
       "      <td>chr-VIII</td>\n",
       "      <td>212392</td>\n",
       "      <td>212393</td>\n",
       "      <td>.</td>\n",
       "      <td>1</td>\n",
       "      <td>5</td>\n",
       "      <td>6</td>\n",
       "      <td>ATTAACGTATA</td>\n",
       "      <td>1</td>\n",
       "      <td>-1.870</td>\n",
       "      <td>[-6.91, -1.82, 0.21, -4.89, -3.07, 3.09, -1.92...</td>\n",
       "    </tr>\n",
       "    <tr>\n",
       "      <td>4</td>\n",
       "      <td>chr-VIII</td>\n",
       "      <td>212457</td>\n",
       "      <td>212461</td>\n",
       "      <td>.</td>\n",
       "      <td>0</td>\n",
       "      <td>8</td>\n",
       "      <td>4</td>\n",
       "      <td>AGAATCGTCGATTA</td>\n",
       "      <td>2</td>\n",
       "      <td>-4.155</td>\n",
       "      <td>[-6.33, 0.08, -3.48, -0.33, -1.71, -13.56, -4....</td>\n",
       "    </tr>\n",
       "  </tbody>\n",
       "</table>\n",
       "</div>"
      ],
      "text/plain": [
       "  chromosome   start     end strand  methylated_reads  unmethylated_reads  \\\n",
       "0   chr-VIII  138415  138416      .                 0                   7   \n",
       "1   chr-VIII  138429  138430      .                 0                   8   \n",
       "2   chr-VIII  212351  212352      .                 0                   8   \n",
       "3   chr-VIII  212392  212393      .                 1                   5   \n",
       "4   chr-VIII  212457  212461      .                 0                   8   \n",
       "\n",
       "   ambiguous_reads        sequence  num_motifs  median_llr  \\\n",
       "0                3     GGTCTCGCTTT           1      -2.335   \n",
       "1                2     AGCTTCGAGGA           1      -5.055   \n",
       "2                4     TGGGGCGACAT           1      -2.950   \n",
       "3                6     ATTAACGTATA           1      -1.870   \n",
       "4                4  AGAATCGTCGATTA           2      -4.155   \n",
       "\n",
       "                                            llr_list  \n",
       "0  [-9.63, -5.51, -5.64, -5.44, 1.06, -2.23, -0.4...  \n",
       "1  [-3.64, -5.14, -4.97, 1.16, -0.43, -9.53, -2.0...  \n",
       "2  [-3.14, -6.06, -9.1, 0.53, 0.17, -11.61, -2.48...  \n",
       "3  [-6.91, -1.82, 0.21, -4.89, -3.07, 3.09, -1.92...  \n",
       "4  [-6.33, 0.08, -3.48, -0.33, -1.71, -13.56, -4....  "
      ]
     },
     "metadata": {},
     "output_type": "display_data"
    }
   ],
   "source": [
    "ff = Aggregate (\n",
    "    input_fn=\"./data/sample_1.tsv\",\n",
    "    fasta_index=\"./data/ref.fa.fai\",\n",
    "    progress=True)\n",
    "\n",
    "display(ff.df.head())"
   ]
  },
  {
   "cell_type": "markdown",
   "metadata": {},
   "source": [
    "#### Basic usage with files output "
   ]
  },
  {
   "cell_type": "code",
   "execution_count": 5,
   "metadata": {
    "ExecuteTime": {
     "end_time": "2019-10-18T16:14:46.683713Z",
     "start_time": "2019-10-18T16:14:41.562027Z"
    },
    "scrolled": false
   },
   "outputs": [
    {
     "name": "stderr",
     "output_type": "stream",
     "text": [
      "## Checking arguments ##\n",
      "## Parsing methylation_calls file ##\n",
      "\tStarting to parse file Nanopolish methylation call file\n",
      "\tFiltering out low coverage sites\n",
      "\tSorting by coordinates\n",
      "\tProcessing valid sites found and write to file\n",
      "\t\tStart writing BED output\n",
      "\t\tStart writing TSV output\n",
      "## Results summary ##\n",
      "\tLines Parsed: 605,248\n",
      "\tTotal Valid Lines: 605,248\n",
      "\tInitial Sites: 229,389\n",
      "\tLow Count Sites: 228,585\n",
      "\tValid Sites Found: 804\n",
      "\tTotal Sites Written: 804\n",
      "\tUnmethylated sites: 589\n",
      "\tAmbiguous sites: 215\n"
     ]
    },
    {
     "name": "stdout",
     "output_type": "stream",
     "text": [
      "chromosome start  end    strand methylated_reads unmethylated_reads ambiguous_reads sequence       num_motifs median_llr llr_list                                                                      \n",
      "chr-VIII   138415 138416 .      0                7                  3               GGTCTCGCTTT    1          -2.335     -9.63;-5.51;-5.64;-5.44;1.06;-2.23;-0.47;0.53;-2.29;-2.38                     \n",
      "chr-VIII   138429 138430 .      0                8                  2               AGCTTCGAGGA    1          -5.055     -3.64;-5.14;-4.97;1.16;-0.43;-9.53;-2.08;-8.07;-9.1;-5.42                     \n",
      "chr-VIII   212351 212352 .      0                8                  4               TGGGGCGACAT    1          -2.95      -3.14;-6.06;-9.1;0.53;0.17;-11.61;-2.48;-3.4;-2.76;0.66;0.13;-12.44           \n",
      "chr-VIII   212392 212393 .      1                5                  6               ATTAACGTATA    1          -1.87      -6.91;-1.82;0.21;-4.89;-3.07;3.09;-1.92;1.83;-1.12;-2.98;-3.0;-1.82           \n",
      "chr-VIII   212457 212461 .      0                8                  4               AGAATCGTCGATTA 2          -4.155     -6.33;0.08;-3.48;-0.33;-1.71;-13.56;-4.83;-3.32;-10.95;-1.55;-7.73;-12.85     \n",
      "chr-VIII   212530 212531 .      0                5                  7               CTATTCGTTTC    1          -1.45      -5.41;-1.42;-1.48;-2.82;1.29;-0.49;-1.09;-2.73;0.15;-4.52;-2.58;-1.11         \n",
      "chr-VIII   212581 212582 .      1                4                  8               GTTACCGCAGG    1          0.23       1.21;-6.56;0.87;1.75;-0.03;0.86;-5.27;-0.77;7.31;0.23;-12.54;1.36;-18.42      \n",
      "chr-VIII   212596 212600 .      0                10                 3               TTTGTCGTCGCTGT 2          -5.42      -13.95;-8.76;-4.4;-0.94;-1.47;1.11;-9.96;-7.38;-5.42;-6.26;-3.37;-2.76;-13.14 \n",
      "chr-VIII   212612 212613 .      0                8                  5               CACCCCGTTGG    1          -2.94      -7.73;-0.5;0.97;-6.92;-2.94;-3.65;0.14;-7.41;-9.09;-2.7;-0.83;-8.23;1.11      \n",
      "\n",
      "track name=Methylation itemRgb=On\n",
      "chr-VIII\t138415\t138416\t.\t-2.33\t.\t138415\t138416\t'8,121,207'\n",
      "chr-VIII\t138429\t138430\t.\t-5.05\t.\t138429\t138430\t'8,121,207'\n",
      "chr-VIII\t212351\t212352\t.\t-2.95\t.\t212351\t212352\t'8,121,207'\n",
      "chr-VIII\t212392\t212393\t.\t-1.87\t.\t212392\t212393\t'100,100,100'\n",
      "chr-VIII\t212457\t212461\t.\t-4.16\t.\t212457\t212461\t'8,121,207'\n",
      "chr-VIII\t212530\t212531\t.\t-1.45\t.\t212530\t212531\t'100,100,100'\n",
      "chr-VIII\t212581\t212582\t.\t0.23\t.\t212581\t212582\t'100,100,100'\n",
      "chr-VIII\t212596\t212600\t.\t-5.42\t.\t212596\t212600\t'8,121,207'\n",
      "chr-VIII\t212612\t212613\t.\t-2.94\t.\t212612\t212613\t'8,121,207'\n",
      "\n"
     ]
    }
   ],
   "source": [
    "ff = Aggregate (\n",
    "    input_fn=\"./data/sample_1.tsv\",\n",
    "    fasta_index=\"./data/ref.fa.fai\",\n",
    "    output_bed_fn=\"./results/sample_1.bed\",\n",
    "    output_tsv_fn=\"./results/sample_1.tsv\")\n",
    "\n",
    "head(\"./results/sample_1.tsv\")\n",
    "head(\"./results/sample_1.bed\")"
   ]
  }
 ],
 "metadata": {
  "celltoolbar": "Initialization Cell",
  "hide_input": false,
  "kernelspec": {
   "display_name": "pycoMeth",
   "language": "python",
   "name": "pycometh"
  },
  "language_info": {
   "codemirror_mode": {
    "name": "ipython",
    "version": 3
   },
   "file_extension": ".py",
   "mimetype": "text/x-python",
   "name": "python",
   "nbconvert_exporter": "python",
   "pygments_lexer": "ipython3",
   "version": "3.6.6"
  }
 },
 "nbformat": 4,
 "nbformat_minor": 2
}
