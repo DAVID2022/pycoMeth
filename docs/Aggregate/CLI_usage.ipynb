{
 "cells": [
  {
   "cell_type": "markdown",
   "metadata": {
    "ExecuteTime": {
     "end_time": "2018-08-10T10:03:00.595966Z",
     "start_time": "2018-08-10T10:03:00.587806Z"
    }
   },
   "source": [
    "# Aggregate CLI usage"
   ]
  },
  {
   "cell_type": "markdown",
   "metadata": {},
   "source": [
    "## Activate virtual environment"
   ]
  },
  {
   "cell_type": "code",
   "execution_count": 1,
   "metadata": {
    "ExecuteTime": {
     "end_time": "2019-10-18T16:15:00.598581Z",
     "start_time": "2019-10-18T16:15:00.001444Z"
    },
    "init_cell": true
   },
   "outputs": [
    {
     "name": "stdout",
     "output_type": "stream",
     "text": [
      "(pycoMeth) "
     ]
    },
    {
     "ename": "",
     "evalue": "1",
     "output_type": "error",
     "traceback": []
    }
   ],
   "source": [
    "# Using virtualenvwrapper here but can also be done with Conda \n",
    "workon pycoMeth"
   ]
  },
  {
   "cell_type": "markdown",
   "metadata": {},
   "source": [
    "## Getting help"
   ]
  },
  {
   "cell_type": "code",
   "execution_count": 2,
   "metadata": {
    "ExecuteTime": {
     "end_time": "2019-10-18T16:15:03.959656Z",
     "start_time": "2019-10-18T16:15:03.070270Z"
    }
   },
   "outputs": [
    {
     "name": "stdout",
     "output_type": "stream",
     "text": [
      "usage: pycoMeth Aggregate [-h] -i INPUT_FN -f FASTA_INDEX [-b OUTPUT_BED_FN]\n",
      "                          [-t OUTPUT_TSV_FN] [-d MIN_DEPTH] [-l MIN_LLR]\n",
      "                          [-s SAMPLE_ID] [-v | -q | -p]\n",
      "\n",
      "Calculate methylation frequency at genomic CpG sites from the output of\n",
      "nanopolish call-methylation\n",
      "\n",
      "optional arguments:\n",
      "  -h, --help            show this help message and exit\n",
      "  -v, --verbose         Increase verbosity\n",
      "  -q, --quiet           Reduce verbosity\n",
      "  -p, --progress        Display a progress bar\n",
      "\n",
      "Input/Output options:\n",
      "  -i INPUT_FN, --input_fn INPUT_FN\n",
      "                        Path to a nanopolish call_methylation tsv output file\n",
      "                        (required) [str]\n",
      "  -f FASTA_INDEX, --fasta_index FASTA_INDEX\n",
      "                        fasta index file obtained with samtools faidx needed\n",
      "                        for coordinate sorting (required) [str]\n",
      "  -b OUTPUT_BED_FN, --output_bed_fn OUTPUT_BED_FN\n",
      "                        Path to write a summary result file in BED format (At\n",
      "                        least 1 output file is requires in CLI mode) (default:\n",
      "                        None) [str]\n",
      "  -t OUTPUT_TSV_FN, --output_tsv_fn OUTPUT_TSV_FN\n",
      "                        Path to write an more extensive result report in TSV\n",
      "                        format (At least 1 output file is requires in CLI\n",
      "                        mode) (default: None) [str]\n",
      "\n",
      "Misc options:\n",
      "  -d MIN_DEPTH, --min_depth MIN_DEPTH\n",
      "                        Minimal number of reads covering a site to be reported\n",
      "                        (default: 10) [int]\n",
      "  -l MIN_LLR, --min_llr MIN_LLR\n",
      "                        Minimal log likelyhood ratio to consider a site\n",
      "                        significantly methylated or unmethylated (default: 2)\n",
      "                        [float]\n",
      "  -s SAMPLE_ID, --sample_id SAMPLE_ID\n",
      "                        Sample ID to be used for the bed track header\n",
      "                        (default: None) [str]\n",
      "(pycoMeth) "
     ]
    },
    {
     "ename": "",
     "evalue": "1",
     "output_type": "error",
     "traceback": []
    }
   ],
   "source": [
    "pycoMeth Aggregate --help"
   ]
  },
  {
   "cell_type": "markdown",
   "metadata": {},
   "source": [
    "## Example usage"
   ]
  },
  {
   "cell_type": "markdown",
   "metadata": {},
   "source": [
    "#### From an existing nanopolish call_methylation file output"
   ]
  },
  {
   "cell_type": "code",
   "execution_count": 4,
   "metadata": {
    "ExecuteTime": {
     "end_time": "2019-10-18T16:16:01.088272Z",
     "start_time": "2019-10-18T16:15:54.667597Z"
    },
    "scrolled": false
   },
   "outputs": [
    {
     "name": "stdout",
     "output_type": "stream",
     "text": [
      "## Checking arguments ##\n",
      "## Parsing methylation_calls file ##\n",
      "\tStarting to parse file Nanopolish methylation call file\n",
      "\t: 100%|█████████████████████████████▉| 60.4M/60.4M [00:03<00:00, 16.1M bytes/s]\n",
      "\tFiltering out low coverage sites\n",
      "\tSorting by coordinates\n",
      "\tProcessing valid sites found and write to file\n",
      "\t\tStart writing BED output\n",
      "\t\tStart writing TSV output\n",
      "\t: 100%|████████████████████████████████████| 804/804 [00:01<00:00, 683 sites/s]\n",
      "## Results summary ##\n",
      "\tLines Parsed: 605,248\n",
      "\tTotal Valid Lines: 605,248\n",
      "\tInitial Sites: 229,389\n",
      "\tLow Count Sites: 228,585\n",
      "\tValid Sites Found: 804\n",
      "\tTotal Sites Written: 804\n",
      "\tUnmethylated sites: 589\n",
      "\tAmbiguous sites: 215\n",
      "(pycoMeth) (pycoMeth) track name=Methylation_sample_1 itemRgb=On\n",
      "chr-VIII\t138415\t138416\t.\t-2.33\t.\t138415\t138416\t'8,121,207'\n",
      "chr-VIII\t138429\t138430\t.\t-5.05\t.\t138429\t138430\t'8,121,207'\n",
      "chr-VIII\t212351\t212352\t.\t-2.95\t.\t212351\t212352\t'8,121,207'\n",
      "chr-VIII\t212392\t212393\t.\t-1.87\t.\t212392\t212393\t'100,100,100'\n",
      "chr-VIII\t212457\t212461\t.\t-4.16\t.\t212457\t212461\t'8,121,207'\n",
      "chr-VIII\t212530\t212531\t.\t-1.45\t.\t212530\t212531\t'100,100,100'\n",
      "chr-VIII\t212581\t212582\t.\t0.23\t.\t212581\t212582\t'100,100,100'\n",
      "chr-VIII\t212596\t212600\t.\t-5.42\t.\t212596\t212600\t'8,121,207'\n",
      "chr-VIII\t212612\t212613\t.\t-2.94\t.\t212612\t212613\t'8,121,207'\n",
      "(pycoMeth) chromosome\tstart\tend\tstrand\tmethylated_reads\tunmethylated_reads\tambiguous_reads\tsequence\tnum_motifs\tmedian_llr\tllr_list\n",
      "chr-VIII\t138415\t138416\t.\t0\t7\t3\tGGTCTCGCTTT\t1\t-2.335\t-9.63;-5.51;-5.64;-5.44;1.06;-2.23;-0.47;0.53;-2.29;-2.38\n",
      "chr-VIII\t138429\t138430\t.\t0\t8\t2\tAGCTTCGAGGA\t1\t-5.055\t-3.64;-5.14;-4.97;1.16;-0.43;-9.53;-2.08;-8.07;-9.1;-5.42\n",
      "chr-VIII\t212351\t212352\t.\t0\t8\t4\tTGGGGCGACAT\t1\t-2.95\t-3.14;-6.06;-9.1;0.53;0.17;-11.61;-2.48;-3.4;-2.76;0.66;0.13;-12.44\n",
      "chr-VIII\t212392\t212393\t.\t1\t5\t6\tATTAACGTATA\t1\t-1.87\t-6.91;-1.82;0.21;-4.89;-3.07;3.09;-1.92;1.83;-1.12;-2.98;-3.0;-1.82\n",
      "chr-VIII\t212457\t212461\t.\t0\t8\t4\tAGAATCGTCGATTA\t2\t-4.155\t-6.33;0.08;-3.48;-0.33;-1.71;-13.56;-4.83;-3.32;-10.95;-1.55;-7.73;-12.85\n",
      "chr-VIII\t212530\t212531\t.\t0\t5\t7\tCTATTCGTTTC\t1\t-1.45\t-5.41;-1.42;-1.48;-2.82;1.29;-0.49;-1.09;-2.73;0.15;-4.52;-2.58;-1.11\n",
      "chr-VIII\t212581\t212582\t.\t1\t4\t8\tGTTACCGCAGG\t1\t0.23\t1.21;-6.56;0.87;1.75;-0.03;0.86;-5.27;-0.77;7.31;0.23;-12.54;1.36;-18.42\n",
      "chr-VIII\t212596\t212600\t.\t0\t10\t3\tTTTGTCGTCGCTGT\t2\t-5.42\t-13.95;-8.76;-4.4;-0.94;-1.47;1.11;-9.96;-7.38;-5.42;-6.26;-3.37;-2.76;-13.14\n",
      "chr-VIII\t212612\t212613\t.\t0\t8\t5\tCACCCCGTTGG\t1\t-2.94\t-7.73;-0.5;0.97;-6.92;-2.94;-3.65;0.14;-7.41;-9.09;-2.7;-0.83;-8.23;1.11\n",
      "(pycoMeth) "
     ]
    },
    {
     "ename": "",
     "evalue": "1",
     "output_type": "error",
     "traceback": []
    }
   ],
   "source": [
    "pycoMeth Aggregate \\\n",
    "    -i ./data/sample_1.tsv \\\n",
    "    -f ./data/ref.fa.fai \\\n",
    "    -b ./results/sample_1.bed \\\n",
    "    -t ./results/sample_1.tsv \\\n",
    "    -s sample_1 \\\n",
    "    --progress\n",
    "\n",
    "head ./results/sample_1.bed\n",
    "head ./results/sample_1.tsv"
   ]
  },
  {
   "cell_type": "markdown",
   "metadata": {},
   "source": [
    "#### Changing filtering thresholds (not recommended)"
   ]
  },
  {
   "cell_type": "code",
   "execution_count": 5,
   "metadata": {
    "ExecuteTime": {
     "end_time": "2019-10-18T16:16:15.716777Z",
     "start_time": "2019-10-18T16:16:03.639466Z"
    },
    "scrolled": false
   },
   "outputs": [
    {
     "name": "stdout",
     "output_type": "stream",
     "text": [
      "## Checking arguments ##\n",
      "## Parsing methylation_calls file ##\n",
      "\tStarting to parse file Nanopolish methylation call file\n",
      "\tFiltering out low coverage sites\n",
      "\tSorting by coordinates\n",
      "\tProcessing valid sites found and write to file\n",
      "\t\tStart writing BED output\n",
      "\t\tStart writing TSV output\n",
      "## Results summary ##\n",
      "\tLines Parsed: 660,789\n",
      "\tTotal Valid Lines: 660,789\n",
      "\tInitial Sites: 236,525\n",
      "\tLow Count Sites: 212,128\n",
      "\tValid Sites Found: 24,397\n",
      "\tTotal Sites Written: 24,397\n",
      "\tUnmethylated sites: 21,109\n",
      "\tAmbiguous sites: 3,202\n",
      "\tMethylated sites: 86\n",
      "(pycoMeth) track name=Methylation_sample_2 itemRgb=On\n",
      "chr-I\t35975\t35976\t.\t-4.09\t.\t35975\t35976\t'8,121,207'\n",
      "chr-I\t36097\t36102\t.\t-5.41\t.\t36097\t36102\t'8,121,207'\n",
      "chr-I\t40208\t40209\t.\t-4.60\t.\t40208\t40209\t'8,121,207'\n",
      "chr-I\t40228\t40229\t.\t-2.85\t.\t40228\t40229\t'8,121,207'\n",
      "chr-I\t40289\t40290\t.\t-2.27\t.\t40289\t40290\t'8,121,207'\n",
      "chr-I\t40403\t40404\t.\t-1.27\t.\t40403\t40404\t'8,121,207'\n",
      "chr-I\t40428\t40429\t.\t-0.71\t.\t40428\t40429\t'100,100,100'\n",
      "chr-I\t40496\t40497\t.\t-5.77\t.\t40496\t40497\t'8,121,207'\n",
      "chr-I\t40507\t40508\t.\t-3.58\t.\t40507\t40508\t'8,121,207'\n",
      "(pycoMeth) chromosome\tstart\tend\tstrand\tmethylated_reads\tunmethylated_reads\tambiguous_reads\tsequence\tnum_motifs\tmedian_llr\tllr_list\n",
      "chr-I\t35975\t35976\t.\t0\t5\t0\tACTTTCGAAAC\t1\t-4.09\t-4.09;-2.98;-5.35;-1.01;-4.78\n",
      "chr-I\t36097\t36102\t.\t0\t5\t0\tTGGTTCGATCGGCTA\t2\t-5.41\t-5.41;-3.74;-5.73;-2.42;-13.0\n",
      "chr-I\t40208\t40209\t.\t0\t4\t1\tGTAGACGGAAT\t1\t-4.6\t0.89;-4.6;-1.5;-5.04;-7.76\n",
      "chr-I\t40228\t40229\t.\t0\t5\t0\tACCTCCGCCTT\t1\t-2.85\t-1.88;-2.85;-2.42;-6.95;-3.89\n",
      "chr-I\t40289\t40290\t.\t0\t3\t2\tTATGTCGCTTC\t1\t-2.27\t-4.86;-5.02;0.64;-0.49;-2.27\n",
      "chr-I\t40403\t40404\t.\t0\t3\t2\tTATGGCGGATT\t1\t-1.27\t-3.53;-0.33;-1.27;-1.96;-0.42\n",
      "chr-I\t40428\t40429\t.\t0\t2\t3\tAAACCCGTGGT\t1\t-0.71\t-5.96;0.46;-0.24;-0.71;-3.54\n",
      "chr-I\t40496\t40497\t.\t0\t5\t0\tATACTCGATAT\t1\t-5.77\t-2.74;-3.01;-6.04;-6.18;-5.77\n",
      "chr-I\t40507\t40508\t.\t1\t3\t1\tTATGTCGTTCA\t1\t-3.58\t-3.58;-4.25;0.14;1.07;-7.64\n",
      "(pycoMeth) "
     ]
    },
    {
     "ename": "",
     "evalue": "1",
     "output_type": "error",
     "traceback": []
    }
   ],
   "source": [
    "pycoMeth Aggregate \\\n",
    "    -i ./data/sample_2.tsv \\\n",
    "    -f ./data/ref.fa.fai \\\n",
    "    -b ./results/sample_2.bed \\\n",
    "    -t ./results/sample_2.tsv \\\n",
    "    -d 5 \\\n",
    "    -l 1 \\\n",
    "    -s sample_2 \\\n",
    "\n",
    "head ./results/sample_2.bed\n",
    "head ./results/sample_2.tsv"
   ]
  },
  {
   "cell_type": "markdown",
   "metadata": {},
   "source": [
    "#### An error is raised if no output file is specified"
   ]
  },
  {
   "cell_type": "code",
   "execution_count": 6,
   "metadata": {
    "ExecuteTime": {
     "end_time": "2019-10-18T16:16:19.455759Z",
     "start_time": "2019-10-18T16:16:18.483386Z"
    },
    "scrolled": false
   },
   "outputs": [
    {
     "name": "stdout",
     "output_type": "stream",
     "text": [
      "## Checking arguments ##\n",
      "Traceback (most recent call last):\n",
      "  File \"/home/aleg/.virtualenvs/pycoMeth/bin/pycoMeth\", line 11, in <module>\n",
      "    load_entry_point('pycoMeth', 'console_scripts', 'pycoMeth')()\n",
      "  File \"/home/aleg/Programming/Packages/pycoMeth/pycoMeth/__main__.py\", line 51, in main\n",
      "    args.func(**vars(args))\n",
      "  File \"/home/aleg/Programming/Packages/pycoMeth/pycoMeth/Aggregate.py\", line 75, in __init__\n",
      "    raise pycoMethError (\"At least 1 output file is requires in CLI mode (-t or -b)\")\n",
      "pycoMeth.common.pycoMethError: At least 1 output file is requires in CLI mode (-t or -b)\n",
      "(pycoMeth) "
     ]
    },
    {
     "ename": "",
     "evalue": "1",
     "output_type": "error",
     "traceback": []
    }
   ],
   "source": [
    "pycoMeth Aggregate \\\n",
    "    -i ./data/sample_2.tsv \\\n",
    "    -f ./data/ref.fa.fai"
   ]
  }
 ],
 "metadata": {
  "celltoolbar": "Initialization Cell",
  "hide_input": false,
  "kernelspec": {
   "display_name": "Bash",
   "language": "bash",
   "name": "bash"
  },
  "language_info": {
   "codemirror_mode": "shell",
   "file_extension": ".sh",
   "mimetype": "text/x-sh",
   "name": "bash"
  }
 },
 "nbformat": 4,
 "nbformat_minor": 2
}
