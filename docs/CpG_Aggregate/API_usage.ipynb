{
 "cells": [
  {
   "cell_type": "markdown",
   "metadata": {
    "ExecuteTime": {
     "end_time": "2018-08-10T10:03:00.595966Z",
     "start_time": "2018-08-10T10:03:00.587806Z"
    }
   },
   "source": [
    "# CpG_Aggregate API usage"
   ]
  },
  {
   "cell_type": "markdown",
   "metadata": {},
   "source": [
    "## Import module"
   ]
  },
  {
   "cell_type": "code",
   "execution_count": 10,
   "metadata": {
    "ExecuteTime": {
     "end_time": "2020-01-08T11:42:47.710258Z",
     "start_time": "2020-01-08T11:42:47.702541Z"
    },
    "init_cell": true
   },
   "outputs": [],
   "source": [
    "# Import main module \n",
    "from pycoMeth.CpG_Aggregate import CpG_Aggregate\n",
    "\n",
    "# optionally inport jupyter helper functions\n",
    "from pycoMeth.common import head, jhelp"
   ]
  },
  {
   "cell_type": "markdown",
   "metadata": {},
   "source": [
    "## Getting help"
   ]
  },
  {
   "cell_type": "code",
   "execution_count": 3,
   "metadata": {
    "ExecuteTime": {
     "end_time": "2020-01-07T17:24:09.111092Z",
     "start_time": "2020-01-07T17:24:09.073388Z"
    }
   },
   "outputs": [
    {
     "data": {
      "text/markdown": [
       "**CpG_Aggregate** (nanopolish_fn, ref_fasta_fn, output_bed_fn, output_tsv_fn, min_depth, sample_id, min_llr, verbose, quiet, progress, kwargs)\n",
       "\n",
       "Calculate methylation frequency at genomic CpG sites from the output of `nanopolish call-methylation`\n",
       "\n",
       "---\n",
       "\n",
       "* **nanopolish_fn** (required) [list(str)]\n",
       "\n",
       "Path to a nanopolish call_methylation tsv output file or a list of files or a regex matching several files\n",
       "\n",
       "* **ref_fasta_fn** (required) [str]\n",
       "\n",
       "Reference file used for alignment in Fasta format (ideally already indexed with samtools faidx)\n",
       "\n",
       "* **output_bed_fn** (default: \"\") [str]\n",
       "\n",
       "Path to write a summary result file in BED format (At least 1 output file is required)\n",
       "\n",
       "* **output_tsv_fn** (default: \"\") [str]\n",
       "\n",
       "Path to write an more extensive result report in TSV format (At least 1 output file is required)\n",
       "\n",
       "* **min_depth** (default: 10) [int]\n",
       "\n",
       "Minimal number of reads covering a site to be reported\n",
       "\n",
       "* **sample_id** (default: \"\") [str]\n",
       "\n",
       "Sample ID to be used for the BED track header\n",
       "\n",
       "* **min_llr** (default: 2) [float]\n",
       "\n",
       "Minimal log likelyhood ratio to consider a site significantly methylated or unmethylated in output BED file\n",
       "\n",
       "* **verbose** (default: False) [bool]\n",
       "\n",
       "* **quiet** (default: False) [bool]\n",
       "\n",
       "* **progress** (default: False) [bool]\n",
       "\n",
       "* **kwargs**\n",
       "\n"
      ],
      "text/plain": [
       "<IPython.core.display.Markdown object>"
      ]
     },
     "metadata": {},
     "output_type": "display_data"
    }
   ],
   "source": [
    "jhelp(CpG_Aggregate)"
   ]
  },
  {
   "cell_type": "markdown",
   "metadata": {},
   "source": [
    "## Example usage"
   ]
  },
  {
   "cell_type": "markdown",
   "metadata": {},
   "source": [
    "### Basic usage"
   ]
  },
  {
   "cell_type": "code",
   "execution_count": 4,
   "metadata": {
    "ExecuteTime": {
     "end_time": "2020-01-07T17:24:27.410925Z",
     "start_time": "2020-01-07T17:24:22.476054Z"
    },
    "scrolled": false
   },
   "outputs": [
    {
     "name": "stderr",
     "output_type": "stream",
     "text": [
      "## Checking options and input files ##\n",
      "## Parsing methylation_calls file ##\n",
      "\tStarting to parse file Nanopolish methylation call file\n",
      "\t: 100%|██████████| 51.9M/51.9M [00:04<00:00, 11.2M bytes/s]\n",
      "\tFiltering out low coverage sites\n",
      "\tSorting each chromosome by coordinates\n",
      "\tParsing summary\n",
      "\t\tInput files: 1\n",
      "\t\tLines Parsed: 543,135\n",
      "\t\tLine successfully parsed: 543,135\n",
      "\t\tInitial Sites: 218,353\n",
      "\t\tTotal Valid Lines: 543,135\n",
      "\t\tLow Count Sites: 218,114\n",
      "\t\tValid Sites Found: 239\n",
      "## Processing valid sites found and write to file ##\n",
      "\t: 100%|██████████| 239/239 [00:00<00:00, 5.66k sites/s]\n",
      "\tResults summary\n",
      "\t\tTotal Sites Writen: 239\n",
      "\t\tUnmethylated sites: 162\n",
      "\t\tAmbiguous sites: 77\n"
     ]
    },
    {
     "name": "stdout",
     "output_type": "stream",
     "text": [
      "chromosome start  end    sequence       num_motifs median_llr llr_list                                                                            \n",
      "VIII       138415 138416 GGTCTCGCTTT    1          -2.355     [-9.42,-5.49,-5.18,-5.11,-2.43,-1.1,0.46,-0.68,1.07,-2.28]                          \n",
      "VIII       138429 138430 AGCTTCGAGGA    1          -4.525     [-3.62,-5.58,1.12,-2.5,-10.4,-2.39,-8.33,-7.29,-0.44,-5.43]                         \n",
      "VIII       212351 212352 TGGGGCGACAT    1          -2.770     [-2.95,-11.55,-9.31,-0.07,-11.21,-4.14,0.66,-2.54,2.05,0.54,-2.77]                  \n",
      "VIII       212392 212393 ATTAACGTATA    1          -2.510     [-6.76,3.04,0.11,-2.51,0.32,-3.7,-2.92,-2.01,-3.52,-4.71,-1.2]                      \n",
      "VIII       212457 212461 AGAATCGTCGATTA 2          -6.080     [-6.08,-13.01,-3.52,-1.3,-8.11,-8.88,-1.47,-4.78,-6.83,-3.04,-6.32,-0.17,-10.75]    \n",
      "VIII       212530 212531 CTATTCGTTTC    1          -1.270     [-5.33,-1.27,1.12,-3.72,0.48,-4.4,-0.48,-1.02,-0.07,-5.54,-2.65,0.16,-2.7]          \n",
      "VIII       212581 212582 GTTACCGCAGG    1          0.075      [1.19,-0.11,-0.02,-5.77,2.08,0.17,0.84,2.46,-4.36,-2.46,1.75,6.98,-11.76,-0.68]     \n",
      "VIII       212596 212600 TTTGTCGTCGCTGT 2          -4.860     [-13.76,-4.43,-1.37,-8.36,-6.67,-6.3,1.13,-4.67,-7.3,-2.5,-0.96,-5.05,-2.63,-7.3]   \n",
      "VIII       212612 212613 CACCCCGTTGG    1          -2.910     [-7.45,1.01,-2.76,-0.81,-3.06,-2.63,-3.66,-3.11,-0.21,-2.02,-6.81,-8.47,-1.18,-7.1] \n",
      "\n",
      "track name=sample_1_CpG itemRgb=On\n",
      "VIII\t138415\t138416\t.\t-2.355\t.\t138415\t138416\t'0,0,255'\n",
      "VIII\t138429\t138430\t.\t-4.525\t.\t138429\t138430\t'0,0,255'\n",
      "VIII\t212351\t212352\t.\t-2.770\t.\t212351\t212352\t'0,0,255'\n",
      "VIII\t212392\t212393\t.\t-2.510\t.\t212392\t212393\t'0,0,255'\n",
      "VIII\t212457\t212461\t.\t-6.080\t.\t212457\t212461\t'0,0,255'\n",
      "VIII\t212530\t212531\t.\t-1.270\t.\t212530\t212531\t'100,100,100'\n",
      "VIII\t212581\t212582\t.\t0.075\t.\t212581\t212582\t'100,100,100'\n",
      "VIII\t212596\t212600\t.\t-4.860\t.\t212596\t212600\t'0,0,255'\n",
      "VIII\t212612\t212613\t.\t-2.910\t.\t212612\t212613\t'0,0,255'\n",
      "\n"
     ]
    }
   ],
   "source": [
    "ff = CpG_Aggregate (\n",
    "    nanopolish_fn=\"./data/nanopolish_sample_1.tsv\",\n",
    "    ref_fasta_fn=\"./data/ref.fa\",\n",
    "    output_bed_fn=\"./results/CpG_Aggregate_sample_1.bed\",\n",
    "    output_tsv_fn=\"./results/CpG_Aggregate_sample_1.tsv\",\n",
    "    sample_id=\"sample_1\",\n",
    "    progress=True)\n",
    "\n",
    "head(\"./results/CpG_Aggregate_sample_1.tsv\")\n",
    "head(\"./results/CpG_Aggregate_sample_1.bed\")"
   ]
  },
  {
   "cell_type": "markdown",
   "metadata": {},
   "source": [
    "### Example usage using a regex and with a lower depth threshold"
   ]
  },
  {
   "cell_type": "code",
   "execution_count": 5,
   "metadata": {
    "ExecuteTime": {
     "end_time": "2020-01-07T17:25:24.496787Z",
     "start_time": "2020-01-07T17:24:44.012859Z"
    },
    "scrolled": false
   },
   "outputs": [
    {
     "name": "stderr",
     "output_type": "stream",
     "text": [
      "## Checking options and input files ##\n",
      "## Parsing methylation_calls file ##\n",
      "\tStarting to parse file Nanopolish methylation call file\n",
      "\t: 100%|██████████| 209M/209M [00:17<00:00, 12.0M bytes/s] \n",
      "\tFiltering out low coverage sites\n",
      "\tSorting each chromosome by coordinates\n",
      "\tParsing summary\n",
      "\t\tInput files: 4\n",
      "\t\tLines Parsed: 2,180,231\n",
      "\t\tLine successfully parsed: 2,180,231\n",
      "\t\tInitial Sites: 251,674\n",
      "\t\tTotal Valid Lines: 2,180,231\n",
      "\t\tValid Sites Found: 228,163\n",
      "\t\tLow Count Sites: 23,511\n",
      "## Processing valid sites found and write to file ##\n",
      "\t: 100%|██████████| 228k/228k [00:22<00:00, 10.3k sites/s] \n",
      "\tResults summary\n",
      "\t\tTotal Sites Writen: 228,163\n",
      "\t\tUnmethylated sites: 168,018\n",
      "\t\tAmbiguous sites: 60,129\n",
      "\t\tMethylated sites: 16\n"
     ]
    },
    {
     "name": "stdout",
     "output_type": "stream",
     "text": [
      "chromosome start end sequence              num_motifs median_llr llr_list                                  \n",
      "I          144   145 CCACTCGTTAC           1          -2.200     [-0.7,2.77,-3.01,-2.2,-8.42]              \n",
      "I          175   176 CACTCCGAACC           1          -1.350     [-1.35,-8.02,-1.07,1.94,-2.01]            \n",
      "I          216   217 CCCACCGTTAC           1          -2.160     [-6.62,-2.16,-2.85,-0.27,-0.41]           \n",
      "I          325   326 TGAAACGCTAA           1          -2.660     [-0.41,0.01,-5.79,-4.93,-2.66]            \n",
      "I          339   340 ATGATCGTAAA           1          -1.210     [-0.02,-2.85,-4.49,-1.21,-1.08]           \n",
      "I          354   355 ACACACGTGCT           1          -1.390     [-1.11,-4.6,-1.63,-1.39,-1.2]             \n",
      "I          422   433 TTTTACGTACGCACACGGATG 3          -10.520    [-2.49,-7.21,-10.79,-13.29,-10.52]        \n",
      "I          542   543 ATGCACGGCAC           1          -0.780     [-2.03,-3.57,0.47,-3.81,2.14,2.59]        \n",
      "I          557   558 CTCAGCGGTCT           1          -2.300     [-5.5,-1.85,-4.84,-2.3,-4.34,-1.14,-1.11] \n",
      "\n",
      "track name=sample_all_CpG itemRgb=On\n",
      "I\t144\t145\t.\t-2.200\t.\t144\t145\t'0,0,255'\n",
      "I\t175\t176\t.\t-1.350\t.\t175\t176\t'100,100,100'\n",
      "I\t216\t217\t.\t-2.160\t.\t216\t217\t'0,0,255'\n",
      "I\t325\t326\t.\t-2.660\t.\t325\t326\t'0,0,255'\n",
      "I\t339\t340\t.\t-1.210\t.\t339\t340\t'100,100,100'\n",
      "I\t354\t355\t.\t-1.390\t.\t354\t355\t'100,100,100'\n",
      "I\t422\t433\t.\t-10.520\t.\t422\t433\t'0,0,255'\n",
      "I\t542\t543\t.\t-0.780\t.\t542\t543\t'100,100,100'\n",
      "I\t557\t558\t.\t-2.300\t.\t557\t558\t'0,0,255'\n",
      "\n"
     ]
    }
   ],
   "source": [
    "ff = CpG_Aggregate (\n",
    "    nanopolish_fn=\"./data/nanopolish_sample_*.tsv\",\n",
    "    ref_fasta_fn=\"./data/ref.fa\",\n",
    "    output_bed_fn=\"./results/CpG_Aggregate_sample_all.bed\",\n",
    "    output_tsv_fn=\"./results/CpG_Aggregate_sample_all.tsv\",\n",
    "    min_depth=5,\n",
    "    sample_id=\"sample_all\",\n",
    "    progress=True)\n",
    "\n",
    "head(\"./results/CpG_Aggregate_sample_all.tsv\")\n",
    "head(\"./results/CpG_Aggregate_sample_all.bed\")"
   ]
  },
  {
   "cell_type": "markdown",
   "metadata": {},
   "source": [
    "### Example with multiple files"
   ]
  },
  {
   "cell_type": "code",
   "execution_count": 9,
   "metadata": {
    "ExecuteTime": {
     "end_time": "2020-01-08T11:23:56.978362Z",
     "start_time": "2020-01-08T11:23:07.468031Z"
    }
   },
   "outputs": [
    {
     "name": "stdout",
     "output_type": "stream",
     "text": [
      "##### SAMPLE 1 #####"
     ]
    },
    {
     "name": "stderr",
     "output_type": "stream",
     "text": [
      "## Checking options and input files ##\n",
      "## Parsing methylation_calls file ##\n",
      "## Processing valid sites found and write to file ##\n"
     ]
    },
    {
     "name": "stdout",
     "output_type": "stream",
     "text": [
      "##### SAMPLE 2 #####"
     ]
    },
    {
     "name": "stderr",
     "output_type": "stream",
     "text": [
      "## Checking options and input files ##\n",
      "## Parsing methylation_calls file ##\n",
      "## Processing valid sites found and write to file ##\n"
     ]
    },
    {
     "name": "stdout",
     "output_type": "stream",
     "text": [
      "##### SAMPLE 3 #####"
     ]
    },
    {
     "name": "stderr",
     "output_type": "stream",
     "text": [
      "## Checking options and input files ##\n",
      "## Parsing methylation_calls file ##\n",
      "## Processing valid sites found and write to file ##\n"
     ]
    },
    {
     "name": "stdout",
     "output_type": "stream",
     "text": [
      "##### SAMPLE 4 #####"
     ]
    },
    {
     "name": "stderr",
     "output_type": "stream",
     "text": [
      "## Checking options and input files ##\n",
      "## Parsing methylation_calls file ##\n",
      "## Processing valid sites found and write to file ##\n"
     ]
    }
   ],
   "source": [
    "import sys\n",
    "\n",
    "for i in range (1, 5):\n",
    "    sys.stdout.write(f\"##### SAMPLE {i} #####\")\n",
    "    sys.stdout.flush()\n",
    "    ff = CpG_Aggregate (\n",
    "        nanopolish_fn=f\"./data/nanopolish_sample_{i}.tsv\",\n",
    "        ref_fasta_fn=\"./data/ref.fa\",\n",
    "        output_bed_fn=f\"./results/CpG_Aggregate_sample_{i}.bed\",\n",
    "        output_tsv_fn=f\"./results/CpG_Aggregate_sample_{i}.tsv\",\n",
    "        sample_id=f\"sample_{i}\",\n",
    "        min_depth=3,\n",
    "        min_llr=1,\n",
    "        quiet=True)"
   ]
  }
 ],
 "metadata": {
  "celltoolbar": "Initialization Cell",
  "hide_input": false,
  "kernelspec": {
   "display_name": "pycoMeth",
   "language": "python",
   "name": "pycometh"
  },
  "language_info": {
   "codemirror_mode": {
    "name": "ipython",
    "version": 3
   },
   "file_extension": ".py",
   "mimetype": "text/x-python",
   "name": "python",
   "nbconvert_exporter": "python",
   "pygments_lexer": "ipython3",
   "version": "3.6.6"
  }
 },
 "nbformat": 4,
 "nbformat_minor": 2
}
