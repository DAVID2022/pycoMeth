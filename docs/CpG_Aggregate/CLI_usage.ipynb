{
 "cells": [
  {
   "cell_type": "markdown",
   "metadata": {
    "ExecuteTime": {
     "end_time": "2018-08-10T10:03:00.595966Z",
     "start_time": "2018-08-10T10:03:00.587806Z"
    }
   },
   "source": [
    "# CpG_Aggregate CLI usage"
   ]
  },
  {
   "cell_type": "markdown",
   "metadata": {},
   "source": [
    "## Activate virtual environment"
   ]
  },
  {
   "cell_type": "code",
   "execution_count": 4,
   "metadata": {
    "ExecuteTime": {
     "end_time": "2020-01-07T17:25:50.762323Z",
     "start_time": "2020-01-07T17:25:49.982334Z"
    },
    "init_cell": true
   },
   "outputs": [
    {
     "name": "stdout",
     "output_type": "stream",
     "text": [
      "(pycoMeth) (pycoMeth) "
     ]
    },
    {
     "ename": "",
     "evalue": "1",
     "output_type": "error",
     "traceback": []
    }
   ],
   "source": [
    "# Using virtualenvwrapper here but can also be done with Conda \n",
    "workon pycoMeth"
   ]
  },
  {
   "cell_type": "markdown",
   "metadata": {},
   "source": [
    "## Getting help"
   ]
  },
  {
   "cell_type": "code",
   "execution_count": 7,
   "metadata": {
    "ExecuteTime": {
     "end_time": "2020-01-08T10:09:48.076595Z",
     "start_time": "2020-01-08T10:09:46.862928Z"
    }
   },
   "outputs": [
    {
     "name": "stdout",
     "output_type": "stream",
     "text": [
      "usage: pycoMeth CpG_Aggregate [-h] -i [NANOPOLISH_FN [NANOPOLISH_FN ...]] -f\n",
      "                              REF_FASTA_FN [-b OUTPUT_BED_FN]\n",
      "                              [-t OUTPUT_TSV_FN] [-d MIN_DEPTH] [-s SAMPLE_ID]\n",
      "                              [-l MIN_LLR] [-v] [-q] [-p]\n",
      "\n",
      "Calculate methylation frequency at genomic CpG sites from the output of\n",
      "`nanopolish call-methylation`\n",
      "\n",
      "optional arguments:\n",
      "  -h, --help            show this help message and exit\n",
      "\n",
      "Input/Output options:\n",
      "  -i [NANOPOLISH_FN [NANOPOLISH_FN ...]], --nanopolish_fn [NANOPOLISH_FN [NANOPOLISH_FN ...]]\n",
      "                        Path to a nanopolish call_methylation tsv output file\n",
      "                        or a list of files or a regex matching several files\n",
      "                        (required) [str]\n",
      "  -f REF_FASTA_FN, --ref_fasta_fn REF_FASTA_FN\n",
      "                        Reference file used for alignment in Fasta format\n",
      "                        (ideally already indexed with samtools faidx)\n",
      "                        (required) [str]\n",
      "  -b OUTPUT_BED_FN, --output_bed_fn OUTPUT_BED_FN\n",
      "                        Path to write a summary result file in BED format (At\n",
      "                        least 1 output file is required) (default: None) [str]\n",
      "  -t OUTPUT_TSV_FN, --output_tsv_fn OUTPUT_TSV_FN\n",
      "                        Path to write an more extensive result report in TSV\n",
      "                        format (At least 1 output file is required) (default:\n",
      "                        None) [str]\n",
      "\n",
      "Misc options:\n",
      "  -d MIN_DEPTH, --min_depth MIN_DEPTH\n",
      "                        Minimal number of reads covering a site to be reported\n",
      "                        (default: 10) [int]\n",
      "  -s SAMPLE_ID, --sample_id SAMPLE_ID\n",
      "                        Sample ID to be used for the BED track header\n",
      "                        (default: None) [str]\n",
      "  -l MIN_LLR, --min_llr MIN_LLR\n",
      "                        Minimal log likelyhood ratio to consider a site\n",
      "                        significantly methylated or unmethylated in output BED\n",
      "                        file (default: 2) [float]\n",
      "\n",
      "Verbosity options:\n",
      "  -v, --verbose         Increase verbosity\n",
      "  -q, --quiet           Reduce verbosity\n",
      "  -p, --progress        Display a progress bar\n",
      "(pycoMeth) "
     ]
    },
    {
     "ename": "",
     "evalue": "1",
     "output_type": "error",
     "traceback": []
    }
   ],
   "source": [
    "pycoMeth CpG_Aggregate --help"
   ]
  },
  {
   "cell_type": "markdown",
   "metadata": {},
   "source": [
    "## Example usage"
   ]
  },
  {
   "cell_type": "markdown",
   "metadata": {},
   "source": [
    "### Basic usage"
   ]
  },
  {
   "cell_type": "code",
   "execution_count": 8,
   "metadata": {
    "ExecuteTime": {
     "end_time": "2020-01-08T10:10:29.360287Z",
     "start_time": "2020-01-08T10:10:23.125249Z"
    },
    "scrolled": false
   },
   "outputs": [
    {
     "name": "stdout",
     "output_type": "stream",
     "text": [
      "## Checking options and input files ##\n",
      "## Parsing methylation_calls file ##\n",
      "\tStarting to parse file Nanopolish methylation call file\n",
      "\t: 100%|██████████████████████████████| 51.9M/51.9M [00:04<00:00, 12.0M bytes/s]\n",
      "\tFiltering out low coverage sites\n",
      "\tSorting each chromosome by coordinates\n",
      "\tParsing summary\n",
      "\t\tInput files: 1\n",
      "\t\tLines Parsed: 543,135\n",
      "\t\tLine successfully parsed: 543,135\n",
      "\t\tInitial Sites: 218,353\n",
      "\t\tTotal Valid Lines: 543,135\n",
      "\t\tLow Count Sites: 218,114\n",
      "\t\tValid Sites Found: 239\n",
      "## Processing valid sites found and write to file ##\n",
      "\t: 100%|██████████████████████████████████| 239/239 [00:00<00:00, 3.51k sites/s]\n",
      "\tResults summary\n",
      "\t\tTotal Sites Writen: 239\n",
      "\t\tUnmethylated sites: 162\n",
      "\t\tAmbiguous sites: 77\n",
      "(pycoMeth) (pycoMeth) track name=sample_1_CpG itemRgb=On\n",
      "VIII\t138415\t138416\t.\t-2.355\t.\t138415\t138416\t'0,0,255'\n",
      "VIII\t138429\t138430\t.\t-4.525\t.\t138429\t138430\t'0,0,255'\n",
      "VIII\t212351\t212352\t.\t-2.770\t.\t212351\t212352\t'0,0,255'\n",
      "VIII\t212392\t212393\t.\t-2.510\t.\t212392\t212393\t'0,0,255'\n",
      "VIII\t212457\t212461\t.\t-6.080\t.\t212457\t212461\t'0,0,255'\n",
      "VIII\t212530\t212531\t.\t-1.270\t.\t212530\t212531\t'100,100,100'\n",
      "VIII\t212581\t212582\t.\t0.075\t.\t212581\t212582\t'100,100,100'\n",
      "VIII\t212596\t212600\t.\t-4.860\t.\t212596\t212600\t'0,0,255'\n",
      "VIII\t212612\t212613\t.\t-2.910\t.\t212612\t212613\t'0,0,255'\n",
      "(pycoMeth) chromosome\tstart\tend\tsequence\tnum_motifs\tmedian_llr\tllr_list\n",
      "VIII\t138415\t138416\tGGTCTCGCTTT\t1\t-2.355\t[-9.42,-5.49,-5.18,-5.11,-2.43,-1.1,0.46,-0.68,1.07,-2.28]\n",
      "VIII\t138429\t138430\tAGCTTCGAGGA\t1\t-4.525\t[-3.62,-5.58,1.12,-2.5,-10.4,-2.39,-8.33,-7.29,-0.44,-5.43]\n",
      "VIII\t212351\t212352\tTGGGGCGACAT\t1\t-2.770\t[-2.95,-11.55,-9.31,-0.07,-11.21,-4.14,0.66,-2.54,2.05,0.54,-2.77]\n",
      "VIII\t212392\t212393\tATTAACGTATA\t1\t-2.510\t[-6.76,3.04,0.11,-2.51,0.32,-3.7,-2.92,-2.01,-3.52,-4.71,-1.2]\n",
      "VIII\t212457\t212461\tAGAATCGTCGATTA\t2\t-6.080\t[-6.08,-13.01,-3.52,-1.3,-8.11,-8.88,-1.47,-4.78,-6.83,-3.04,-6.32,-0.17,-10.75]\n",
      "VIII\t212530\t212531\tCTATTCGTTTC\t1\t-1.270\t[-5.33,-1.27,1.12,-3.72,0.48,-4.4,-0.48,-1.02,-0.07,-5.54,-2.65,0.16,-2.7]\n",
      "VIII\t212581\t212582\tGTTACCGCAGG\t1\t0.075\t[1.19,-0.11,-0.02,-5.77,2.08,0.17,0.84,2.46,-4.36,-2.46,1.75,6.98,-11.76,-0.68]\n",
      "VIII\t212596\t212600\tTTTGTCGTCGCTGT\t2\t-4.860\t[-13.76,-4.43,-1.37,-8.36,-6.67,-6.3,1.13,-4.67,-7.3,-2.5,-0.96,-5.05,-2.63,-7.3]\n",
      "VIII\t212612\t212613\tCACCCCGTTGG\t1\t-2.910\t[-7.45,1.01,-2.76,-0.81,-3.06,-2.63,-3.66,-3.11,-0.21,-2.02,-6.81,-8.47,-1.18,-7.1]\n",
      "(pycoMeth) "
     ]
    },
    {
     "ename": "",
     "evalue": "1",
     "output_type": "error",
     "traceback": []
    }
   ],
   "source": [
    "pycoMeth CpG_Aggregate \\\n",
    "    -i ./data/nanopolish_sample_1.tsv \\\n",
    "    -f ./data/ref.fa \\\n",
    "    -b ./results/CpG_Aggregate_sample_1_CLI.bed \\\n",
    "    -t ./results/CpG_Aggregate_sample_1_CLI.tsv \\\n",
    "    -s sample_1 \\\n",
    "    --progress\n",
    "\n",
    "head ./results/CpG_Aggregate_sample_1_CLI.bed\n",
    "head ./results/CpG_Aggregate_sample_1_CLI.tsv"
   ]
  },
  {
   "cell_type": "markdown",
   "metadata": {},
   "source": [
    "### Example usage using a regex and with a lower depth threshold"
   ]
  },
  {
   "cell_type": "code",
   "execution_count": 9,
   "metadata": {
    "ExecuteTime": {
     "end_time": "2020-01-08T10:11:18.121678Z",
     "start_time": "2020-01-08T10:10:36.999543Z"
    }
   },
   "outputs": [
    {
     "name": "stdout",
     "output_type": "stream",
     "text": [
      "## Checking options and input files ##\n",
      "## Parsing methylation_calls file ##\n",
      "\tStarting to parse file Nanopolish methylation call file\n",
      "\t: 100%|████████████████████████████████| 209M/209M [00:17<00:00, 12.1M bytes/s]\n",
      "\tFiltering out low coverage sites\n",
      "\tSorting each chromosome by coordinates\n",
      "\tParsing summary\n",
      "\t\tInput files: 4\n",
      "\t\tLines Parsed: 2,180,231\n",
      "\t\tLine successfully parsed: 2,180,231\n",
      "\t\tInitial Sites: 251,674\n",
      "\t\tTotal Valid Lines: 2,180,231\n",
      "\t\tValid Sites Found: 228,163\n",
      "\t\tLow Count Sites: 23,511\n",
      "## Processing valid sites found and write to file ##\n",
      "\t: 100%|████████████████████████████████| 228k/228k [00:21<00:00, 10.8k sites/s]\n",
      "\tResults summary\n",
      "\t\tTotal Sites Writen: 228,163\n",
      "\t\tUnmethylated sites: 168,018\n",
      "\t\tAmbiguous sites: 60,129\n",
      "\t\tMethylated sites: 16\n",
      "(pycoMeth) (pycoMeth) track name=sample_all_CpG itemRgb=On\n",
      "I\t144\t145\t.\t-2.200\t.\t144\t145\t'0,0,255'\n",
      "I\t175\t176\t.\t-1.350\t.\t175\t176\t'100,100,100'\n",
      "I\t216\t217\t.\t-2.160\t.\t216\t217\t'0,0,255'\n",
      "I\t325\t326\t.\t-2.660\t.\t325\t326\t'0,0,255'\n",
      "I\t339\t340\t.\t-1.210\t.\t339\t340\t'100,100,100'\n",
      "I\t354\t355\t.\t-1.390\t.\t354\t355\t'100,100,100'\n",
      "I\t422\t433\t.\t-10.520\t.\t422\t433\t'0,0,255'\n",
      "I\t542\t543\t.\t-0.780\t.\t542\t543\t'100,100,100'\n",
      "I\t557\t558\t.\t-2.300\t.\t557\t558\t'0,0,255'\n",
      "(pycoMeth) chromosome\tstart\tend\tsequence\tnum_motifs\tmedian_llr\tllr_list\n",
      "I\t144\t145\tCCACTCGTTAC\t1\t-2.200\t[-2.2,-8.42,-0.7,2.77,-3.01]\n",
      "I\t175\t176\tCACTCCGAACC\t1\t-1.350\t[1.94,-2.01,-1.35,-8.02,-1.07]\n",
      "I\t216\t217\tCCCACCGTTAC\t1\t-2.160\t[-0.27,-0.41,-6.62,-2.16,-2.85]\n",
      "I\t325\t326\tTGAAACGCTAA\t1\t-2.660\t[-4.93,-2.66,-0.41,0.01,-5.79]\n",
      "I\t339\t340\tATGATCGTAAA\t1\t-1.210\t[-1.21,-1.08,-0.02,-2.85,-4.49]\n",
      "I\t354\t355\tACACACGTGCT\t1\t-1.390\t[-1.39,-1.2,-1.11,-4.6,-1.63]\n",
      "I\t422\t433\tTTTTACGTACGCACACGGATG\t3\t-10.520\t[-13.29,-10.52,-2.49,-7.21,-10.79]\n",
      "I\t542\t543\tATGCACGGCAC\t1\t-0.780\t[2.14,2.59,-2.03,-3.57,0.47,-3.81]\n",
      "I\t557\t558\tCTCAGCGGTCT\t1\t-2.300\t[-4.34,-1.14,-1.11,-5.5,-1.85,-4.84,-2.3]\n",
      "(pycoMeth) "
     ]
    },
    {
     "ename": "",
     "evalue": "1",
     "output_type": "error",
     "traceback": []
    }
   ],
   "source": [
    "pycoMeth CpG_Aggregate \\\n",
    "    -i ./data/nanopolish_sample_*.tsv \\\n",
    "    -f ./data/ref.fa \\\n",
    "    -b ./results/CpG_Aggregate_sample_all_CLI.bed \\\n",
    "    -t ./results/CpG_Aggregate_sample_all_CLI.tsv \\\n",
    "    -d 5 \\\n",
    "    -s sample_all \\\n",
    "    --progress\n",
    "\n",
    "head ./results/CpG_Aggregate_sample_all_CLI.bed\n",
    "head ./results/CpG_Aggregate_sample_all_CLI.tsv"
   ]
  }
 ],
 "metadata": {
  "celltoolbar": "Initialization Cell",
  "hide_input": false,
  "kernelspec": {
   "display_name": "Bash",
   "language": "bash",
   "name": "bash"
  },
  "language_info": {
   "codemirror_mode": "shell",
   "file_extension": ".sh",
   "mimetype": "text/x-sh",
   "name": "bash"
  }
 },
 "nbformat": 4,
 "nbformat_minor": 2
}
