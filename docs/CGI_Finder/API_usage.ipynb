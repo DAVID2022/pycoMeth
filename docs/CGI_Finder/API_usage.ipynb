{
 "cells": [
  {
   "cell_type": "markdown",
   "metadata": {
    "ExecuteTime": {
     "end_time": "2018-08-10T10:03:00.595966Z",
     "start_time": "2018-08-10T10:03:00.587806Z"
    }
   },
   "source": [
    "# Aggregate API usage"
   ]
  },
  {
   "cell_type": "markdown",
   "metadata": {},
   "source": [
    "## Import module"
   ]
  },
  {
   "cell_type": "code",
   "execution_count": 2,
   "metadata": {
    "ExecuteTime": {
     "end_time": "2019-11-12T09:59:52.846132Z",
     "start_time": "2019-11-12T09:59:52.842361Z"
    },
    "init_cell": true
   },
   "outputs": [],
   "source": [
    "# Import main module \n",
    "from pycoMeth.Aggregate import Aggregate\n",
    "\n",
    "# optionally inport jupyter helper functions\n",
    "from pycoMeth.common import head, jhelp"
   ]
  },
  {
   "cell_type": "markdown",
   "metadata": {},
   "source": [
    "## Getting help"
   ]
  },
  {
   "cell_type": "code",
   "execution_count": 3,
   "metadata": {
    "ExecuteTime": {
     "end_time": "2019-11-12T09:59:56.425152Z",
     "start_time": "2019-11-12T09:59:56.400944Z"
    }
   },
   "outputs": [
    {
     "data": {
      "text/markdown": [
       "**Aggregate** (input_fn, fasta_index, output_bed_fn, output_tsv_fn, min_depth, sample_id, min_llr, kwargs)\n",
       "\n",
       "Calculate methylation frequency at genomic CpG sites from the output of nanopolish call-methylation\n",
       "\n",
       "---\n",
       "\n",
       "* **input_fn** (required) [str]\n",
       "\n",
       "Path to a nanopolish call_methylation tsv output file\n",
       "\n",
       "* **fasta_index** (required) [str]\n",
       "\n",
       "fasta index file obtained with samtools faidx needed for coordinate sorting\n",
       "\n",
       "* **output_bed_fn** (default: \"\") [str]\n",
       "\n",
       "Path to write a summary result file in BED format (At least 1 output file is requires in CLI mode)\n",
       "\n",
       "* **output_tsv_fn** (default: \"\") [str]\n",
       "\n",
       "Path to write an more extensive result report in TSV format (At least 1 output file is requires in CLI mode)\n",
       "\n",
       "* **min_depth** (default: 10) [int]\n",
       "\n",
       "Minimal number of reads covering a site to be reported\n",
       "\n",
       "* **sample_id** (default: \"\") [str]\n",
       "\n",
       "Sample ID to be used for the bed track header\n",
       "\n",
       "* **min_llr** (default: 2) [float]\n",
       "\n",
       "Minimal log likelyhood ratio to consider a site significantly methylated or unmethylated\n",
       "\n",
       "* **kwargs**\n",
       "\n",
       "Allow to pass extra options such as verbose, quiet and progress\n",
       "\n"
      ],
      "text/plain": [
       "<IPython.core.display.Markdown object>"
      ]
     },
     "metadata": {},
     "output_type": "display_data"
    }
   ],
   "source": [
    "jhelp(Aggregate)"
   ]
  },
  {
   "cell_type": "markdown",
   "metadata": {},
   "source": [
    "## Example usage"
   ]
  },
  {
   "cell_type": "markdown",
   "metadata": {},
   "source": [
    "#### Basic usage "
   ]
  },
  {
   "cell_type": "code",
   "execution_count": 8,
   "metadata": {
    "ExecuteTime": {
     "end_time": "2019-11-12T10:02:00.721237Z",
     "start_time": "2019-11-12T10:01:53.951234Z"
    },
    "scrolled": false
   },
   "outputs": [
    {
     "name": "stderr",
     "output_type": "stream",
     "text": [
      "## Checking arguments ##\n",
      "## Parsing methylation_calls file ##\n",
      "\tStarting to parse file Nanopolish methylation call file\n",
      "\t: 100%|█████████▉| 60.4M/60.4M [00:06<00:00, 9.45M bytes/s]\n",
      "\tFiltering out low coverage sites\n",
      "\tSorting each chromosome by coordinates\n",
      "## Parsing summary ##\n",
      "\tLines Parsed: 605,248\n",
      "\tTotal Valid Lines: 605,248\n",
      "\tInitial Sites: 229,389\n",
      "\tLow Count Sites: 228,585\n",
      "\tValid Sites Found: 804\n",
      "\tProcessing valid sites found and write to file\n",
      "\t: 100%|██████████| 804/804 [00:00<00:00, 7.15k sites/s]\n",
      "## Results summary ##\n",
      "\tTotal Sites Written: 804\n",
      "\tUnmethylated sites: 589\n",
      "\tAmbiguous sites: 215\n"
     ]
    },
    {
     "name": "stdout",
     "output_type": "stream",
     "text": [
      "chromosome start  end    sequence       num_motifs median_llr llr_list                                                                      \n",
      "chr-VIII   138415 138416 GGTCTCGCTTT    1          -2.335     -9.63;-5.51;-5.64;-5.44;1.06;-2.23;-0.47;0.53;-2.29;-2.38                     \n",
      "chr-VIII   138429 138430 AGCTTCGAGGA    1          -5.055     -3.64;-5.14;-4.97;1.16;-0.43;-9.53;-2.08;-8.07;-9.1;-5.42                     \n",
      "chr-VIII   212351 212352 TGGGGCGACAT    1          -2.95      -3.14;-6.06;-9.1;0.53;0.17;-11.61;-2.48;-3.4;-2.76;0.66;0.13;-12.44           \n",
      "chr-VIII   212392 212393 ATTAACGTATA    1          -1.87      -6.91;-1.82;0.21;-4.89;-3.07;3.09;-1.92;1.83;-1.12;-2.98;-3.0;-1.82           \n",
      "chr-VIII   212457 212461 AGAATCGTCGATTA 2          -4.155     -6.33;0.08;-3.48;-0.33;-1.71;-13.56;-4.83;-3.32;-10.95;-1.55;-7.73;-12.85     \n",
      "chr-VIII   212530 212531 CTATTCGTTTC    1          -1.45      -5.41;-1.42;-1.48;-2.82;1.29;-0.49;-1.09;-2.73;0.15;-4.52;-2.58;-1.11         \n",
      "chr-VIII   212581 212582 GTTACCGCAGG    1          0.23       1.21;-6.56;0.87;1.75;-0.03;0.86;-5.27;-0.77;7.31;0.23;-12.54;1.36;-18.42      \n",
      "chr-VIII   212596 212600 TTTGTCGTCGCTGT 2          -5.42      -13.95;-8.76;-4.4;-0.94;-1.47;1.11;-9.96;-7.38;-5.42;-6.26;-3.37;-2.76;-13.14 \n",
      "chr-VIII   212612 212613 CACCCCGTTGG    1          -2.94      -7.73;-0.5;0.97;-6.92;-2.94;-3.65;0.14;-7.41;-9.09;-2.7;-0.83;-8.23;1.11      \n",
      "\n",
      "track name=Methylation_sample_1 itemRgb=On\n",
      "chr-VIII\t138415\t138416\t.\t-2.335\t.\t138415\t138416\t'8,121,207'\n",
      "chr-VIII\t138429\t138430\t.\t-5.055\t.\t138429\t138430\t'8,121,207'\n",
      "chr-VIII\t212351\t212352\t.\t-2.950\t.\t212351\t212352\t'8,121,207'\n",
      "chr-VIII\t212392\t212393\t.\t-1.870\t.\t212392\t212393\t'100,100,100'\n",
      "chr-VIII\t212457\t212461\t.\t-4.155\t.\t212457\t212461\t'8,121,207'\n",
      "chr-VIII\t212530\t212531\t.\t-1.450\t.\t212530\t212531\t'100,100,100'\n",
      "chr-VIII\t212581\t212582\t.\t0.230\t.\t212581\t212582\t'100,100,100'\n",
      "chr-VIII\t212596\t212600\t.\t-5.420\t.\t212596\t212600\t'8,121,207'\n",
      "chr-VIII\t212612\t212613\t.\t-2.940\t.\t212612\t212613\t'8,121,207'\n",
      "\n"
     ]
    }
   ],
   "source": [
    "ff = Aggregate (\n",
    "    input_fn=\"./data/sample_1.tsv\",\n",
    "    fasta_index=\"./data/ref.fa.fai\",\n",
    "    output_bed_fn=\"./results/sample_1.bed\",\n",
    "    output_tsv_fn=\"./results/sample_1.tsv\",\n",
    "    sample_id=\"sample_1\",\n",
    "    progress=True)\n",
    "\n",
    "head(\"./results/sample_1.tsv\")\n",
    "head(\"./results/sample_1.bed\")"
   ]
  }
 ],
 "metadata": {
  "celltoolbar": "Initialization Cell",
  "hide_input": false,
  "kernelspec": {
   "display_name": "pycoMeth",
   "language": "python",
   "name": "pycometh"
  },
  "language_info": {
   "codemirror_mode": {
    "name": "ipython",
    "version": 3
   },
   "file_extension": ".py",
   "mimetype": "text/x-python",
   "name": "python",
   "nbconvert_exporter": "python",
   "pygments_lexer": "ipython3",
   "version": "3.6.6"
  }
 },
 "nbformat": 4,
 "nbformat_minor": 2
}
