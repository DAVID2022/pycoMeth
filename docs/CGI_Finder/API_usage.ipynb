{
 "cells": [
  {
   "cell_type": "markdown",
   "metadata": {
    "ExecuteTime": {
     "end_time": "2018-08-10T10:03:00.595966Z",
     "start_time": "2018-08-10T10:03:00.587806Z"
    }
   },
   "source": [
    "# CGI_Finder API usage"
   ]
  },
  {
   "cell_type": "markdown",
   "metadata": {},
   "source": [
    "## Import module"
   ]
  },
  {
   "cell_type": "code",
   "execution_count": 2,
   "metadata": {
    "ExecuteTime": {
     "end_time": "2020-02-26T12:47:10.884351Z",
     "start_time": "2020-02-26T12:47:10.881019Z"
    },
    "init_cell": true
   },
   "outputs": [],
   "source": [
    "# Import main module \n",
    "from pycoMeth.CGI_Finder import CGI_Finder\n",
    "\n",
    "# optionally inport jupyter helper functions\n",
    "from pycoMeth.common import head, jhelp"
   ]
  },
  {
   "cell_type": "markdown",
   "metadata": {},
   "source": [
    "## Getting help"
   ]
  },
  {
   "cell_type": "code",
   "execution_count": 3,
   "metadata": {
    "ExecuteTime": {
     "end_time": "2020-02-26T12:47:12.968022Z",
     "start_time": "2020-02-26T12:47:12.928567Z"
    }
   },
   "outputs": [
    {
     "data": {
      "text/markdown": [
       "**CGI_Finder** (ref_fasta_fn, output_tsv_fn, output_bed_fn, merge_gap, min_win_len, min_CG_freq, min_obs_CG_ratio, verbose, quiet, progress, kwargs)\n",
       "\n",
       "Simple method to find putative CpG islands in DNA sequences by using a sliding window and merging overlapping windows satisfying the CpG island definition. Results can be saved in bed and tsv format\n",
       "\n",
       "---\n",
       "\n",
       "* **ref_fasta_fn** (required) [str]\n",
       "\n",
       "Reference file used for alignment in Fasta format (ideally already indexed with samtools faidx)\n",
       "\n",
       "* **output_tsv_fn** (default: None) [str]\n",
       "\n",
       "Path to write an more extensive result report in TSV format (At least 1 output file is required)\n",
       "\n",
       "* **output_bed_fn** (default: None) [str]\n",
       "\n",
       "Path to write a summary result file in BED format (At least 1 output file is required)\n",
       "\n",
       "* **merge_gap** (default: 0) [int]\n",
       "\n",
       "Merge close CpG island within a given distance in bases\n",
       "\n",
       "* **min_win_len** (default: 200) [int]\n",
       "\n",
       "Length of the minimal window containing CpG. Used as the sliding window length\n",
       "\n",
       "* **min_CG_freq** (default: 0.5) [float]\n",
       "\n",
       "Minimal C+G frequency in a window to be counted as a valid CpG island\n",
       "\n",
       "* **min_obs_CG_ratio** (default: 0.6) [float]\n",
       "\n",
       "Minimal Observed CG dinucleotidefrequency over expected distribution in a window to be counted as a valid CpG island\n",
       "\n",
       "* **verbose** (default: False) [bool]\n",
       "\n",
       "* **quiet** (default: False) [bool]\n",
       "\n",
       "* **progress** (default: False) [bool]\n",
       "\n",
       "* **kwargs**\n",
       "\n"
      ],
      "text/plain": [
       "<IPython.core.display.Markdown object>"
      ]
     },
     "metadata": {},
     "output_type": "display_data"
    }
   ],
   "source": [
    "jhelp(CGI_Finder)"
   ]
  },
  {
   "cell_type": "markdown",
   "metadata": {},
   "source": [
    "## Example usage"
   ]
  },
  {
   "cell_type": "markdown",
   "metadata": {},
   "source": [
    "#### Basic usage with yeast genome"
   ]
  },
  {
   "cell_type": "code",
   "execution_count": 6,
   "metadata": {
    "ExecuteTime": {
     "end_time": "2020-02-26T12:48:25.305479Z",
     "start_time": "2020-02-26T12:48:11.248876Z"
    },
    "scrolled": false
   },
   "outputs": [
    {
     "name": "stderr",
     "output_type": "stream",
     "text": [
      "## Checking options and input files ##\n",
      "## Parsing reference fasta file ##\n",
      "\tParsing Reference sequence: I\n",
      "100%|██████████| 230k/230k [00:00<00:00, 769k bases/s] \n",
      "\tParsing Reference sequence: II\n",
      "100%|██████████| 813k/813k [00:00<00:00, 932k bases/s] \n",
      "\tParsing Reference sequence: III\n",
      "100%|██████████| 316k/316k [00:00<00:00, 865k bases/s] \n",
      "\tParsing Reference sequence: IV\n",
      "100%|██████████| 1.53M/1.53M [00:01<00:00, 830k bases/s]\n",
      "\tParsing Reference sequence: V\n",
      "100%|██████████| 577k/577k [00:00<00:00, 852k bases/s] \n",
      "\tParsing Reference sequence: VI\n",
      "100%|██████████| 270k/270k [00:00<00:00, 621k bases/s] \n",
      "\tParsing Reference sequence: VII\n",
      "100%|██████████| 1.09M/1.09M [00:01<00:00, 866k bases/s]\n",
      "\tParsing Reference sequence: VIII\n",
      "100%|██████████| 562k/562k [00:00<00:00, 921k bases/s] \n",
      "\tParsing Reference sequence: IX\n",
      "100%|██████████| 440k/440k [00:00<00:00, 826k bases/s] \n",
      "\tParsing Reference sequence: X\n",
      "100%|██████████| 746k/746k [00:00<00:00, 855k bases/s] \n",
      "\tParsing Reference sequence: XI\n",
      "100%|██████████| 667k/667k [00:00<00:00, 921k bases/s] \n",
      "\tParsing Reference sequence: XII\n",
      "100%|██████████| 1.08M/1.08M [00:01<00:00, 941k bases/s]\n",
      "\tParsing Reference sequence: XIII\n",
      "100%|██████████| 924k/924k [00:01<00:00, 808k bases/s] \n",
      "\tParsing Reference sequence: XIV\n",
      "100%|██████████| 784k/784k [00:00<00:00, 931k bases/s] \n",
      "\tParsing Reference sequence: XV\n",
      "100%|██████████| 1.09M/1.09M [00:01<00:00, 972k bases/s]\n",
      "\tParsing Reference sequence: XVI\n",
      "100%|██████████| 948k/948k [00:01<00:00, 864k bases/s] \n",
      "\tParsing Reference sequence: Mito\n",
      "100%|██████████| 85.6k/85.6k [00:00<00:00, 818k bases/s]\n",
      "\tResults summary\n",
      "\t\tValid minimal size windows: 216,083\n",
      "\t\tValid merged windows: 2,041\n",
      "\t\tNumber of reference sequences: 17\n"
     ]
    },
    {
     "name": "stdout",
     "output_type": "stream",
     "text": [
      "chromosome start end   length num_CpG CG_freq obs_exp_freq \n",
      "I          17    333   316    4       0.509   0.614        \n",
      "I          1804  2170  366    14      0.495   0.650        \n",
      "I          25527 25912 385    16      0.488   0.776        \n",
      "I          31835 32949 1114   59      0.497   0.876        \n",
      "I          33497 34371 874    39      0.506   0.715        \n",
      "I          38163 38471 308    13      0.487   0.715        \n",
      "I          44294 44565 271    12      0.487   0.747        \n",
      "I          44730 44988 258    9       0.481   0.608        \n",
      "I          45308 45526 218    12      0.495   0.908        \n",
      "\n",
      "track name=CpG_islands\n",
      "I\t17\t333\n",
      "I\t1804\t2170\n",
      "I\t25527\t25912\n",
      "I\t31835\t32949\n",
      "I\t33497\t34371\n",
      "I\t38163\t38471\n",
      "I\t44294\t44565\n",
      "I\t44730\t44988\n",
      "I\t45308\t45526\n",
      "\n"
     ]
    }
   ],
   "source": [
    "ff = CGI_Finder (\n",
    "    ref_fasta_fn=\"./data/yeast.fa\",\n",
    "    output_bed_fn=\"./results/yeast_CGI.bed\",\n",
    "    output_tsv_fn=\"./results/yeast_CGI.tsv\",\n",
    "    progress=True)\n",
    "\n",
    "head(\"./results/yeast_CGI.tsv\")\n",
    "head(\"./results/yeast_CGI.bed\")"
   ]
  }
 ],
 "metadata": {
  "celltoolbar": "Initialization Cell",
  "hide_input": false,
  "kernelspec": {
   "display_name": "pycoMeth",
   "language": "python",
   "name": "pycometh"
  },
  "language_info": {
   "codemirror_mode": {
    "name": "ipython",
    "version": 3
   },
   "file_extension": ".py",
   "mimetype": "text/x-python",
   "name": "python",
   "nbconvert_exporter": "python",
   "pygments_lexer": "ipython3",
   "version": "3.6.6"
  }
 },
 "nbformat": 4,
 "nbformat_minor": 2
}
