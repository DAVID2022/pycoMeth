{
 "cells": [
  {
   "cell_type": "markdown",
   "metadata": {
    "ExecuteTime": {
     "end_time": "2018-08-10T10:03:00.595966Z",
     "start_time": "2018-08-10T10:03:00.587806Z"
    }
   },
   "source": [
    "# CGI_Finder CLI usage"
   ]
  },
  {
   "cell_type": "markdown",
   "metadata": {},
   "source": [
    "## Activate virtual environment"
   ]
  },
  {
   "cell_type": "code",
   "execution_count": 2,
   "metadata": {
    "ExecuteTime": {
     "end_time": "2020-02-26T12:48:21.920257Z",
     "start_time": "2020-02-26T12:48:21.071769Z"
    },
    "init_cell": true
   },
   "outputs": [
    {
     "name": "stdout",
     "output_type": "stream",
     "text": [
      "(pycoMeth) (pycoMeth) "
     ]
    },
    {
     "ename": "",
     "evalue": "1",
     "output_type": "error",
     "traceback": []
    }
   ],
   "source": [
    "# Using virtualenvwrapper here but can also be done with Conda \n",
    "workon pycoMeth"
   ]
  },
  {
   "cell_type": "markdown",
   "metadata": {},
   "source": [
    "## Getting help"
   ]
  },
  {
   "cell_type": "code",
   "execution_count": 3,
   "metadata": {
    "ExecuteTime": {
     "end_time": "2020-02-26T12:48:26.001174Z",
     "start_time": "2020-02-26T12:48:24.659201Z"
    }
   },
   "outputs": [
    {
     "name": "stdout",
     "output_type": "stream",
     "text": [
      "usage: pycoMeth CGI_Finder [-h] -f REF_FASTA_FN [-b OUTPUT_BED_FN]\n",
      "                           [-t OUTPUT_TSV_FN] [-m MERGE_GAP] [-w MIN_WIN_LEN]\n",
      "                           [-c MIN_CG_FREQ] [-r MIN_OBS_CG_RATIO] [-v] [-q]\n",
      "                           [-p]\n",
      "\n",
      "Simple method to find putative CpG islands in DNA sequences by using a sliding\n",
      "window and merging overlapping windows satisfying the CpG island definition.\n",
      "Results can be saved in bed and tsv format\n",
      "\n",
      "optional arguments:\n",
      "  -h, --help            show this help message and exit\n",
      "\n",
      "Input/Output options:\n",
      "  -f REF_FASTA_FN, --ref_fasta_fn REF_FASTA_FN\n",
      "                        Reference file used for alignment in Fasta format\n",
      "                        (ideally already indexed with samtools faidx)\n",
      "                        (required) [str]\n",
      "  -b OUTPUT_BED_FN, --output_bed_fn OUTPUT_BED_FN\n",
      "                        Path to write a summary result file in BED format (At\n",
      "                        least 1 output file is required) (default: None) [str]\n",
      "  -t OUTPUT_TSV_FN, --output_tsv_fn OUTPUT_TSV_FN\n",
      "                        Path to write an more extensive result report in TSV\n",
      "                        format (At least 1 output file is required) (default:\n",
      "                        None) [str]\n",
      "\n",
      "Misc options:\n",
      "  -m MERGE_GAP, --merge_gap MERGE_GAP\n",
      "                        Merge close CpG island within a given distance in\n",
      "                        bases (default: 0) [int]\n",
      "  -w MIN_WIN_LEN, --min_win_len MIN_WIN_LEN\n",
      "                        Length of the minimal window containing CpG. Used as\n",
      "                        the sliding window length (default: 200) [int]\n",
      "  -c MIN_CG_FREQ, --min_CG_freq MIN_CG_FREQ\n",
      "                        Minimal C+G frequency in a window to be counted as a\n",
      "                        valid CpG island (default: 0.5) [float]\n",
      "  -r MIN_OBS_CG_RATIO, --min_obs_CG_ratio MIN_OBS_CG_RATIO\n",
      "                        Minimal Observed CG dinucleotidefrequency over\n",
      "                        expected distribution in a window to be counted as a\n",
      "                        valid CpG island (default: 0.6) [float]\n",
      "\n",
      "Verbosity options:\n",
      "  -v, --verbose         Increase verbosity\n",
      "  -q, --quiet           Reduce verbosity\n",
      "  -p, --progress        Display a progress bar\n",
      "(pycoMeth) "
     ]
    },
    {
     "ename": "",
     "evalue": "1",
     "output_type": "error",
     "traceback": []
    }
   ],
   "source": [
    "pycoMeth CGI_Finder --help"
   ]
  },
  {
   "cell_type": "markdown",
   "metadata": {},
   "source": [
    "## Example usage"
   ]
  },
  {
   "cell_type": "markdown",
   "metadata": {},
   "source": [
    "#### Basic usage with yeast genome"
   ]
  },
  {
   "cell_type": "code",
   "execution_count": 4,
   "metadata": {
    "ExecuteTime": {
     "end_time": "2020-02-26T12:49:02.123664Z",
     "start_time": "2020-02-26T12:48:47.162268Z"
    },
    "scrolled": false
   },
   "outputs": [
    {
     "name": "stdout",
     "output_type": "stream",
     "text": [
      "## Checking options and input files ##\n",
      "## Parsing reference fasta file ##\n",
      "\tParsing Reference sequence: I\n",
      "100%|████████████████████████████████████| 230k/230k [00:00<00:00, 851k bases/s]\n",
      "\tParsing Reference sequence: II\n",
      "100%|████████████████████████████████████| 813k/813k [00:00<00:00, 995k bases/s]\n",
      "\tParsing Reference sequence: III\n",
      "100%|████████████████████████████████████| 316k/316k [00:00<00:00, 749k bases/s]\n",
      "\tParsing Reference sequence: IV\n",
      "100%|██████████████████████████████████| 1.53M/1.53M [00:01<00:00, 930k bases/s]\n",
      "\tParsing Reference sequence: V\n",
      "100%|████████████████████████████████████| 577k/577k [00:00<00:00, 939k bases/s]\n",
      "\tParsing Reference sequence: VI\n",
      "100%|████████████████████████████████████| 270k/270k [00:00<00:00, 909k bases/s]\n",
      "\tParsing Reference sequence: VII\n",
      "100%|██████████████████████████████████| 1.09M/1.09M [00:01<00:00, 949k bases/s]\n",
      "\tParsing Reference sequence: VIII\n",
      "100%|████████████████████████████████████| 562k/562k [00:00<00:00, 885k bases/s]\n",
      "\tParsing Reference sequence: IX\n",
      "100%|████████████████████████████████████| 440k/440k [00:00<00:00, 836k bases/s]\n",
      "\tParsing Reference sequence: X\n",
      "100%|████████████████████████████████████| 746k/746k [00:00<00:00, 921k bases/s]\n",
      "\tParsing Reference sequence: XI\n",
      "100%|████████████████████████████████████| 667k/667k [00:00<00:00, 846k bases/s]\n",
      "\tParsing Reference sequence: XII\n",
      "100%|██████████████████████████████████| 1.08M/1.08M [00:01<00:00, 938k bases/s]\n",
      "\tParsing Reference sequence: XIII\n",
      "100%|████████████████████████████████████| 924k/924k [00:00<00:00, 948k bases/s]\n",
      "\tParsing Reference sequence: XIV\n",
      "100%|████████████████████████████████████| 784k/784k [00:00<00:00, 911k bases/s]\n",
      "\tParsing Reference sequence: XV\n",
      "100%|██████████████████████████████████| 1.09M/1.09M [00:01<00:00, 853k bases/s]\n",
      "\tParsing Reference sequence: XVI\n",
      "100%|████████████████████████████████████| 948k/948k [00:01<00:00, 888k bases/s]\n",
      "\tParsing Reference sequence: Mito\n",
      "100%|██████████████████████████████████| 85.6k/85.6k [00:00<00:00, 851k bases/s]\n",
      "\tResults summary\n",
      "\t\tValid minimal size windows: 216,083\n",
      "\t\tValid merged windows: 2,041\n",
      "\t\tNumber of reference sequences: 17\n",
      "(pycoMeth) (pycoMeth) track name=CpG_islands\n",
      "I\t17\t333\n",
      "I\t1804\t2170\n",
      "I\t25527\t25912\n",
      "I\t31835\t32949\n",
      "I\t33497\t34371\n",
      "I\t38163\t38471\n",
      "I\t44294\t44565\n",
      "I\t44730\t44988\n",
      "I\t45308\t45526\n",
      "(pycoMeth) chromosome\tstart\tend\tlength\tnum_CpG\tCG_freq\tobs_exp_freq\n",
      "I\t17\t333\t316\t4\t0.509\t0.614\n",
      "I\t1804\t2170\t366\t14\t0.495\t0.650\n",
      "I\t25527\t25912\t385\t16\t0.488\t0.776\n",
      "I\t31835\t32949\t1114\t59\t0.497\t0.876\n",
      "I\t33497\t34371\t874\t39\t0.506\t0.715\n",
      "I\t38163\t38471\t308\t13\t0.487\t0.715\n",
      "I\t44294\t44565\t271\t12\t0.487\t0.747\n",
      "I\t44730\t44988\t258\t9\t0.481\t0.608\n",
      "I\t45308\t45526\t218\t12\t0.495\t0.908\n",
      "(pycoMeth) "
     ]
    },
    {
     "ename": "",
     "evalue": "1",
     "output_type": "error",
     "traceback": []
    }
   ],
   "source": [
    "pycoMeth CGI_Finder \\\n",
    "    -f ./data/yeast.fa \\\n",
    "    -b ./results/yeast_CGI.bed \\\n",
    "    -t ./results/yeast_CGI.tsv \\\n",
    "    --progress\n",
    "\n",
    "head ./results/yeast_CGI.bed\n",
    "head ./results/yeast_CGI.tsv"
   ]
  }
 ],
 "metadata": {
  "celltoolbar": "Initialization Cell",
  "hide_input": false,
  "kernelspec": {
   "display_name": "Bash",
   "language": "bash",
   "name": "bash"
  },
  "language_info": {
   "codemirror_mode": "shell",
   "file_extension": ".sh",
   "mimetype": "text/x-sh",
   "name": "bash"
  }
 },
 "nbformat": 4,
 "nbformat_minor": 2
}
